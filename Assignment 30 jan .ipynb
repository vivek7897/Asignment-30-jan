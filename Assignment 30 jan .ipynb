{
 "cells": [
  {
   "cell_type": "code",
   "execution_count": null,
   "id": "d9bb111d-06fd-4f64-997f-bf58fc890a1f",
   "metadata": {},
   "outputs": [],
   "source": [
    "1. Writhe the program to accept percentage from the user and display the grade according for the following criteria?\n",
    "Marks              Grade\n",
    ">90                 A\n",
    ">80 and <=90        B\n",
    ">=60 and <=80       C\n",
    "below 60            D"
   ]
  },
  {
   "cell_type": "code",
   "execution_count": 2,
   "id": "68c68f17-2116-484d-8981-c60124c5680b",
   "metadata": {},
   "outputs": [
    {
     "name": "stdin",
     "output_type": "stream",
     "text": [
      "Enter marks of the first subject:  80\n",
      "Enter marks of the second subject:  70\n",
      "Enter marks of the third subject:  60\n",
      "Enter marks of the fourth subject:  65\n",
      "Enter marks of the fifth subject:  55\n"
     ]
    },
    {
     "ename": "TypeError",
     "evalue": "unsupported operand type(s) for &: 'int' and 'float'",
     "output_type": "error",
     "traceback": [
      "\u001b[0;31m---------------------------------------------------------------------------\u001b[0m",
      "\u001b[0;31mTypeError\u001b[0m                                 Traceback (most recent call last)",
      "Cell \u001b[0;32mIn[2], line 10\u001b[0m\n\u001b[1;32m      8\u001b[0m \u001b[38;5;28;01mif\u001b[39;00m(avg\u001b[38;5;241m>\u001b[39m\u001b[38;5;241m=\u001b[39m\u001b[38;5;241m90\u001b[39m):\n\u001b[1;32m      9\u001b[0m     \u001b[38;5;28mprint\u001b[39m(\u001b[38;5;124m\"\u001b[39m\u001b[38;5;124mGrade: A\u001b[39m\u001b[38;5;124m\"\u001b[39m)\n\u001b[0;32m---> 10\u001b[0m \u001b[38;5;28;01melif\u001b[39;00m(avg\u001b[38;5;241m>\u001b[39m\u001b[38;5;241m=\u001b[39m\u001b[38;5;241;43m80\u001b[39;49m\u001b[38;5;241;43m&\u001b[39;49m\u001b[43mavg\u001b[49m\u001b[38;5;241m<\u001b[39m\u001b[38;5;241m90\u001b[39m):\n\u001b[1;32m     11\u001b[0m     \u001b[38;5;28mprint\u001b[39m(\u001b[38;5;124m\"\u001b[39m\u001b[38;5;124mGrade: B\u001b[39m\u001b[38;5;124m\"\u001b[39m)\n\u001b[1;32m     12\u001b[0m \u001b[38;5;28;01melif\u001b[39;00m(avg\u001b[38;5;241m>\u001b[39m\u001b[38;5;241m=\u001b[39m\u001b[38;5;241m70\u001b[39m\u001b[38;5;241m&\u001b[39mavg\u001b[38;5;241m<\u001b[39m\u001b[38;5;241m80\u001b[39m):\n",
      "\u001b[0;31mTypeError\u001b[0m: unsupported operand type(s) for &: 'int' and 'float'"
     ]
    }
   ],
   "source": [
    "# ANSWER\n",
    "sub1=int(input(\"Enter marks of the first subject: \"))\n",
    "sub2=int(input(\"Enter marks of the second subject: \"))\n",
    "sub3=int(input(\"Enter marks of the third subject: \"))\n",
    "sub4=int(input(\"Enter marks of the fourth subject: \"))\n",
    "sub5=int(input(\"Enter marks of the fifth subject: \"))\n",
    "avg=(sub1+sub2+sub3+sub4+sub4)/5\n",
    "if(avg>=90):\n",
    "    print(\"Grade: A\")\n",
    "elif(avg>=80&avg<90):\n",
    "    print(\"Grade: B\")\n",
    "elif(avg>=70&avg<80):\n",
    "    print(\"Grade: C\")\n",
    "elif(avg>=60&avg<70):\n",
    "    print(\"Grade: D\")\n",
    "else:\n",
    "    print(\"Grade: F\")"
   ]
  },
  {
   "cell_type": "code",
   "execution_count": null,
   "id": "f630d5f3-1eef-4e2f-954e-a0d989ed9993",
   "metadata": {},
   "outputs": [],
   "source": [
    "2. Write a program to accept the cost price of a bike and display the road tax to be paid\n",
    "according to the following criteria?"
   ]
  },
  {
   "cell_type": "code",
   "execution_count": 3,
   "id": "06f4f7c9-c3a7-4288-885c-2b2fa2a46ab6",
   "metadata": {},
   "outputs": [
    {
     "ename": "SyntaxError",
     "evalue": "invalid syntax (2316360771.py, line 5)",
     "output_type": "error",
     "traceback": [
      "\u001b[0;36m  Cell \u001b[0;32mIn[3], line 5\u001b[0;36m\u001b[0m\n\u001b[0;31m    elif cp > 5000 and cp <= 100000:\u001b[0m\n\u001b[0m    ^\u001b[0m\n\u001b[0;31mSyntaxError\u001b[0m\u001b[0;31m:\u001b[0m invalid syntax\n"
     ]
    }
   ],
   "source": [
    "#ANSWER\n",
    "cp = float(input(\"Enter the cost price of the bike:\"))\n",
    "if cp > 100000:\n",
    "    t = 0.15\n",
    "    elif cp > 5000 and cp <= 100000:\n",
    "        elif cp <=50000:\n",
    "            t = 0.05\n",
    "            rt = cp * t\n",
    "            print(rt, \"is the road tax to be paid.\")"
   ]
  },
  {
   "cell_type": "code",
   "execution_count": null,
   "id": "e286a9fb-4870-4508-b333-a579ff172b77",
   "metadata": {},
   "outputs": [],
   "source": [
    "3.Accept the city from the user and display monuments of that city.\n",
    "\n",
    "CITY           MONUMENT\n",
    "Delhi          Red fort\n",
    "Agra           Taj mahal\n",
    "Jaipur         jai mahal"
   ]
  },
  {
   "cell_type": "code",
   "execution_count": 4,
   "id": "e71b1885-c141-4b29-a184-b85190e694c5",
   "metadata": {},
   "outputs": [
    {
     "name": "stdin",
     "output_type": "stream",
     "text": [
      "Enter a city agra\n"
     ]
    },
    {
     "name": "stdout",
     "output_type": "stream",
     "text": [
      "Taj Mahal\n"
     ]
    }
   ],
   "source": [
    "# ANSWER\n",
    "city = input(\"Enter a city\")\n",
    "\n",
    "if city.upper() == \"DELHI\":\n",
    "\n",
    "   print(\"Red Fort\")\n",
    "\n",
    "elif city.upper() == \"AGRA\":\n",
    "\n",
    "   print(\"Taj Mahal\")\n",
    "\n",
    "elif city.upper() == \"JAIPUR\":\n",
    "\n",
    "   print(\"Jal Mahal\")\n",
    "\n",
    "else:\n",
    "\n",
    "   print(\"Enter a valid city\")"
   ]
  },
  {
   "cell_type": "code",
   "execution_count": null,
   "id": "1dc10df2-4315-41f0-ae41-4990bd0225e5",
   "metadata": {},
   "outputs": [],
   "source": [
    "4. Check how many times a given number can be divided by 3 before it is less than or equal to 10. \n"
   ]
  },
  {
   "cell_type": "code",
   "execution_count": 5,
   "id": "caf20819-679b-4643-9bf7-6caa95493110",
   "metadata": {},
   "outputs": [
    {
     "name": "stdin",
     "output_type": "stream",
     "text": [
      "Enter your number: 3\n"
     ]
    },
    {
     "name": "stdout",
     "output_type": "stream",
     "text": [
      "3 is divisible by 3\n"
     ]
    }
   ],
   "source": [
    "# ANSWER\n",
    "num1=int(input(\"Enter your number:\"))\n",
    "if(num1%3==0):\n",
    "    print(\"{} is divisible by 3\".format(num1))\n",
    "else:\n",
    "    print(\"{} is not divisible by 3\".format(num1))\n"
   ]
  },
  {
   "cell_type": "code",
   "execution_count": null,
   "id": "205975aa-f2a8-47da-9e66-8bb30c3a0c15",
   "metadata": {},
   "outputs": [],
   "source": [
    "5. Why and when used to while loop in pyhton give a detail description with example."
   ]
  },
  {
   "cell_type": "code",
   "execution_count": null,
   "id": "19956862-2f9a-460f-ae0b-1b7dbd0dd2df",
   "metadata": {},
   "outputs": [],
   "source": [
    "# ANSWER\n",
    "A While loop in Python allows a part of the code to be executed repeatedly as long as a given condition is true. \n",
    "The While loop in Python is also called a pre-tested loop. \n",
    "It is typically used when the number of iterations is not known."
   ]
  },
  {
   "cell_type": "code",
   "execution_count": null,
   "id": "898a1918-1b84-49c9-aabf-684ed0b49ed6",
   "metadata": {},
   "outputs": [],
   "source": [
    "6. Use Nested while loop to print 3 different pattern.\n"
   ]
  },
  {
   "cell_type": "code",
   "execution_count": 6,
   "id": "4c5fe8dd-a8ba-452d-9ce8-b7c35676c454",
   "metadata": {},
   "outputs": [
    {
     "name": "stdin",
     "output_type": "stream",
     "text": [
      "Enter number of rows :  6\n"
     ]
    },
    {
     "name": "stdout",
     "output_type": "stream",
     "text": [
      "* \n",
      "* * \n",
      "* * * \n",
      "* * * * \n",
      "* * * * * \n",
      "* * * * * * \n"
     ]
    }
   ],
   "source": [
    "# ANSWER\n",
    " #Example 1 – Python Program to Print Right Triangle using While Loop\n",
    "#In this example, we will write a Python program to print the following start pattern to console. \n",
    "#We shall read the number of rows and print starts as shown below.\n",
    "\n",
    "#Pattern\n",
    "\n",
    "#For an input number of 4, following would be the pattern.\n",
    "\n",
    "n = int(input('Enter number of rows : '))\n",
    " \n",
    "i = 1\n",
    "while i <= n :\n",
    "    j = 1\n",
    "    while j <= i:\n",
    "        print(\"*\", end = \" \")\n",
    "        j += 1\n",
    "    print()\n",
    "    i += 1\n",
    "#Inner while loop prints a single row after its complete execution. Outer while loop helps to print n number of rows.\n",
    "\n",
    "#In other words, outer while loop prints the rows, while inner while loop prints columns in each row.\n",
    "\n",
    "    \n",
    "\n"
   ]
  },
  {
   "cell_type": "code",
   "execution_count": 7,
   "id": "7279656f-913c-4611-8015-ddf58d11088b",
   "metadata": {},
   "outputs": [
    {
     "name": "stdin",
     "output_type": "stream",
     "text": [
      "Enter number of rows :  5\n"
     ]
    },
    {
     "name": "stdout",
     "output_type": "stream",
     "text": [
      "* * * * * \n",
      "* * * * \n",
      "* * * \n",
      "* * \n",
      "* \n"
     ]
    }
   ],
   "source": [
    "\n",
    "#xample 2 – Python Program to Print Inverted Right Triangle using While Loop\n",
    "#In this example, we will write a Python program to print the following start pattern to console.\n",
    "\n",
    "\n",
    "#For an input number of 4, following would be the pattern.\n",
    "\n",
    "\n",
    "\n",
    "n = int(input('Enter number of rows : '))\n",
    " \n",
    "i = 1\n",
    "while i <= n :\n",
    "    j = n\n",
    "    while j >= i:\n",
    "        print(\"*\", end = \" \")\n",
    "        j -= 1\n",
    "    print()\n",
    "    i += 1\n",
    "\n",
    "\n"
   ]
  },
  {
   "cell_type": "code",
   "execution_count": 8,
   "id": "fb141686-e0bf-432a-b28c-0af366a2aece",
   "metadata": {},
   "outputs": [
    {
     "name": "stdin",
     "output_type": "stream",
     "text": [
      "Enter number of rows :  7\n"
     ]
    },
    {
     "name": "stdout",
     "output_type": "stream",
     "text": [
      "  1 \n",
      "  2   3 \n",
      "  4   5   6 \n",
      "  7   8   9  10 \n",
      " 11  12  13  14  15 \n",
      " 16  17  18  19  20  21 \n",
      " 22  23  24  25  26  27  28 \n"
     ]
    }
   ],
   "source": [
    " #Example 3 – Python Program to Print Number Pattern using While Loop\n",
    " #In this example, we will write a Python program to print the following pattern to console. \n",
    "#We shall read the number of rows and print numbers as shown below.\n",
    "\n",
    "#For an input number of 5, \n",
    "\n",
    "n = int(input('Enter number of rows : '))\n",
    " \n",
    "k = 1\n",
    "i = 1\n",
    "while i <= n :\n",
    "    j = 1\n",
    "    while j <= i:\n",
    "        print(\"{:3d}\".format(k), end = \" \")\n",
    "        j += 1\n",
    "        k += 1\n",
    "    print()\n",
    "    i += 1"
   ]
  },
  {
   "cell_type": "code",
   "execution_count": null,
   "id": "670ecbfb-aa88-4540-8da9-6cc6c560f7fd",
   "metadata": {},
   "outputs": [],
   "source": [
    "6. Reverse a while loop to display numbers from 10 to 1."
   ]
  },
  {
   "cell_type": "code",
   "execution_count": 9,
   "id": "1df38e4d-7484-4ebe-91a7-9e6d2625d4d3",
   "metadata": {},
   "outputs": [
    {
     "name": "stdout",
     "output_type": "stream",
     "text": [
      "10\n",
      "9\n",
      "8\n",
      "7\n",
      "6\n",
      "5\n",
      "4\n",
      "3\n",
      "2\n",
      "1\n"
     ]
    }
   ],
   "source": [
    "# ANSWER \n",
    "i = 10\n",
    "while i > 0:\n",
    "    print(i)\n",
    "    i = i - 1"
   ]
  },
  {
   "cell_type": "code",
   "execution_count": null,
   "id": "c8c2d5b1-a9cf-4027-8ff2-431440c3c292",
   "metadata": {},
   "outputs": [],
   "source": [
    "8. Reverse a while loop to display numbers from 10 to 1."
   ]
  },
  {
   "cell_type": "code",
   "execution_count": 10,
   "id": "b90a294b-7a50-442b-a5de-d1985e61505d",
   "metadata": {},
   "outputs": [
    {
     "name": "stdout",
     "output_type": "stream",
     "text": [
      "10\n",
      "9\n",
      "8\n",
      "7\n",
      "6\n",
      "5\n",
      "4\n",
      "3\n",
      "2\n",
      "1\n"
     ]
    }
   ],
   "source": [
    "# ANSWER \n",
    "i = 10\n",
    "while i > 0:\n",
    "    print(i)\n",
    "    i = i - 1"
   ]
  },
  {
   "cell_type": "code",
   "execution_count": null,
   "id": "3b182c16-35c1-4f80-9ecb-c2bd7b0fa09b",
   "metadata": {},
   "outputs": [],
   "source": []
  }
 ],
 "metadata": {
  "kernelspec": {
   "display_name": "Python 3 (ipykernel)",
   "language": "python",
   "name": "python3"
  },
  "language_info": {
   "codemirror_mode": {
    "name": "ipython",
    "version": 3
   },
   "file_extension": ".py",
   "mimetype": "text/x-python",
   "name": "python",
   "nbconvert_exporter": "python",
   "pygments_lexer": "ipython3",
   "version": "3.10.8"
  }
 },
 "nbformat": 4,
 "nbformat_minor": 5
}
